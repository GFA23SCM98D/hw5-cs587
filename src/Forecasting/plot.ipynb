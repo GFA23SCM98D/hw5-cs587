{
 "cells": [
  {
   "cell_type": "code",
   "execution_count": 2,
   "id": "7078ca7e",
   "metadata": {},
   "outputs": [],
   "source": [
    "import json\n",
    "import matplotlib.pyplot as plt\n",
    "import datetime\n"
   ]
  },
  {
   "cell_type": "code",
   "execution_count": 3,
   "id": "b3f7a485",
   "metadata": {},
   "outputs": [],
   "source": [
    "# load github repo info\n",
    "with open(\"github_info.json\", \"r\") as file:\n",
    "    data_dict = json.load(file)"
   ]
  },
  {
   "cell_type": "code",
   "execution_count": 4,
   "id": "32654e2c",
   "metadata": {},
   "outputs": [],
   "source": [
    "# 1. A Line Chart to plot the issues for every Repo\n",
    "plt.figure(figsize=(12, 6))\n",
    "markers = ['o', 's', 'D', 'v', '^', 'p', '*', 'h', 'H', 'd']\n",
    "linestyles = ['-', '--', '-.', ':']\n",
    "repo_index = 0\n",
    "\n",
    "for repo, data in data_dict.items():\n",
    "    issues = data[\"issues\"]\n",
    "    marker = markers[repo_index % len(markers)]\n",
    "    linestyle = linestyles[repo_index % len(linestyles)]\n",
    "    plt.plot(repo, issues, marker=marker, linestyle=linestyle, linewidth=2)\n",
    "    repo_index += 1\n",
    "\n",
    "plt.xticks(rotation=45)\n",
    "plt.xlabel(\"Repo\")\n",
    "plt.ylabel(\"Issues\")\n",
    "plt.title(\"Issues for every Repo\")\n",
    "plt.tight_layout()\n",
    "plt.savefig(\"line_chart_issues.png\")\n",
    "plt.close()"
   ]
  },
  {
   "cell_type": "code",
   "execution_count": 5,
   "id": "c915a5ef",
   "metadata": {},
   "outputs": [],
   "source": [
    "# 2. A Bar Chart to plot the issues created for every month for every Repo\n",
    "plt.figure(figsize=(12, 6))\n",
    "for repo, data in data_dict.items():\n",
    "    issues_created = data[\"issues_created\"]\n",
    "    plt.bar(repo, issues_created)\n",
    "plt.xticks(rotation=45)\n",
    "plt.xlabel(\"Repo\")\n",
    "plt.ylabel(\"Issues Created\")\n",
    "plt.title(\"Issues Created for every month for every Repo\")\n",
    "plt.tight_layout()\n",
    "plt.savefig(\"bar_chart_issues_created.png\")\n",
    "plt.close()"
   ]
  },
  {
   "cell_type": "code",
   "execution_count": 6,
   "id": "b2013b78",
   "metadata": {},
   "outputs": [],
   "source": [
    "# 3. A Bar Chart to plot the stars for every Repo\n",
    "plt.figure(figsize=(12, 6))\n",
    "repos = list(data_dict.keys())\n",
    "stars = [data_dict[repo][\"stars\"] for repo in repos]\n",
    "plt.bar(repos, stars)\n",
    "plt.xticks(rotation=45)\n",
    "plt.xlabel(\"Repo\")\n",
    "plt.ylabel(\"Stars\")\n",
    "plt.title(\"Stars for every Repo\")\n",
    "plt.tight_layout()\n",
    "plt.savefig(\"bar_chart_stars.png\")\n",
    "plt.close()"
   ]
  },
  {
   "cell_type": "code",
   "execution_count": 7,
   "id": "f713b7d1",
   "metadata": {},
   "outputs": [],
   "source": [
    "# 4. A Bar Chart to plot the forks for every Repo\n",
    "plt.figure(figsize=(12, 6))\n",
    "forks = [data_dict[repo][\"forks\"] for repo in repos]\n",
    "plt.bar(repos, forks)\n",
    "plt.xticks(rotation=45)\n",
    "plt.xlabel(\"Repo\")\n",
    "plt.ylabel(\"Forks\")\n",
    "plt.title(\"Forks for every Repo\")\n",
    "plt.tight_layout()\n",
    "plt.savefig(\"bar_chart_forks.png\")\n",
    "plt.close()"
   ]
  },
  {
   "cell_type": "code",
   "execution_count": 8,
   "id": "acfb67f9",
   "metadata": {},
   "outputs": [],
   "source": [
    "# 5. A Bar Chart to plot the issues closed for every week for every Repo\n",
    "plt.figure(figsize=(12, 6))\n",
    "for repo, data in data_dict.items():\n",
    "    issues_closed = data[\"issues_closed\"]\n",
    "    plt.bar(repo, issues_closed)\n",
    "plt.xticks(rotation=45)\n",
    "plt.xlabel(\"Repo\")\n",
    "plt.ylabel(\"Issues Closed\")\n",
    "plt.title(\"Issues Closed for every week for every Repo\")\n",
    "plt.tight_layout()\n",
    "plt.savefig(\"bar_chart_issues_closed.png\")\n",
    "plt.close()"
   ]
  },
  {
   "cell_type": "code",
   "execution_count": 9,
   "id": "07a944c9",
   "metadata": {},
   "outputs": [],
   "source": [
    "# 6. A Stack-Bar Chart to plot the created and closed issues for every Repo\n",
    "plt.figure(figsize=(12, 6))\n",
    "issues_created_list = [data_dict[repo][\"issues_created\"] for repo in repos]\n",
    "issues_closed_list = [data_dict[repo][\"issues_closed\"] for repo in repos]\n",
    "plt.bar(repos, issues_created_list, label=\"Issues Created\")\n",
    "plt.bar(repos, issues_closed_list, bottom=issues_created_list, label=\"Issues Closed\")\n",
    "plt.xticks(rotation=45)\n",
    "plt.xlabel(\"Repo\")\n",
    "plt.ylabel(\"Issues\")\n",
    "plt.title(\"Created and Closed Issues for every Repo\")\n",
    "plt.legend()\n",
    "plt.tight_layout()\n",
    "plt.savefig(\"stack_bar_chart_created_closed_issues.png\")\n",
    "plt.close()"
   ]
  }
 ],
 "metadata": {
  "kernelspec": {
   "display_name": "Python 3 (ipykernel)",
   "language": "python",
   "name": "python3"
  },
  "language_info": {
   "codemirror_mode": {
    "name": "ipython",
    "version": 3
   },
   "file_extension": ".py",
   "mimetype": "text/x-python",
   "name": "python",
   "nbconvert_exporter": "python",
   "pygments_lexer": "ipython3",
   "version": "3.9.13"
  }
 },
 "nbformat": 4,
 "nbformat_minor": 5
}
